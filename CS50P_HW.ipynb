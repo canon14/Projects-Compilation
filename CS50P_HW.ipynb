{
  "nbformat": 4,
  "nbformat_minor": 0,
  "metadata": {
    "colab": {
      "name": "CS50P HW.ipynb",
      "provenance": [],
      "authorship_tag": "ABX9TyPsSOYdL47uCYX5VlM3qFpV",
      "include_colab_link": true
    },
    "kernelspec": {
      "name": "python3",
      "display_name": "Python 3"
    },
    "language_info": {
      "name": "python"
    }
  },
  "cells": [
    {
      "cell_type": "markdown",
      "metadata": {
        "id": "view-in-github",
        "colab_type": "text"
      },
      "source": [
        "<a href=\"https://colab.research.google.com/github/canon14/Projects-Compilation/blob/master/CS50P_HW.ipynb\" target=\"_parent\"><img src=\"https://colab.research.google.com/assets/colab-badge.svg\" alt=\"Open In Colab\"/></a>"
      ]
    },
    {
      "cell_type": "markdown",
      "source": [
        "#**WEEK 1**"
      ],
      "metadata": {
        "id": "Lmdrc1LOVK2J"
      }
    },
    {
      "cell_type": "code",
      "execution_count": null,
      "metadata": {
        "colab": {
          "base_uri": "https://localhost:8080/"
        },
        "id": "_x7-DXjwVJpL",
        "outputId": "9404f963-7307-4c45-f195-7bd8dd458aba"
      },
      "outputs": [
        {
          "output_type": "stream",
          "name": "stdout",
          "text": [
            "What is the Answer to the Great Question of Life, the universe, and Everything? 42\n",
            "Yes\n"
          ]
        }
      ],
      "source": [
        "#Deep Thought\n",
        "answer = input(\"What is the Answer to the Great Question of Life, the universe, and Everything? \")\n",
        "if answer == '42' or answer.lower()=='forty-two' or answer.lower()=='forty two':\n",
        "  print('Yes')\n",
        "else:\n",
        "  print('No')"
      ]
    },
    {
      "cell_type": "code",
      "source": [
        "#Home Federal Savings Bank\n",
        "greeting = input('Insert your greeting: ')\n",
        "clean_greeting = greeting.lower().strip()\n",
        "\n",
        "if clean_greeting[:5] == 'hello':\n",
        "  print('$0')\n",
        "elif clean_greeting[:5] != 'hello' and clean_greeting[0] == 'h':\n",
        "  print('$20')\n",
        "else:\n",
        "  print('$100')"
      ],
      "metadata": {
        "colab": {
          "base_uri": "https://localhost:8080/"
        },
        "id": "ovN5AXHRWSZi",
        "outputId": "c51f5bdf-62aa-4a75-d6ce-2e7a17c60ed0"
      },
      "execution_count": null,
      "outputs": [
        {
          "output_type": "stream",
          "name": "stdout",
          "text": [
            "Insert your greeting: What is happening\n",
            "$100\n"
          ]
        }
      ]
    },
    {
      "cell_type": "code",
      "source": [
        "#File Extension\n",
        "\n",
        "file_name = input(\"Insert file name: \")\n",
        "file_name = file_name.lower()\n",
        "\n",
        "if '.' not in file_name:\n",
        "  print('application/octet-stream')\n",
        "else:\n",
        "  if file_name.split('.')[1] == 'gif':\n",
        "    print('image/gif')\n",
        "  elif file_name.split('.')[1] == 'jpg':\n",
        "    print('image/jpg')\n",
        "  elif file_name.split('.')[1] == 'jpeg':\n",
        "    print('image/jpeg')\n",
        "  elif file_name.split('.')[1] == 'png':\n",
        "    print('image/png')\n",
        "  elif file_name.split('.')[1] == 'pdf':\n",
        "    print('image/pdf')\n",
        "  elif file_name.split('.')[1] == 'txt':\n",
        "    print('image/txt')\n",
        "  elif file_name.split('.')[1] == 'zip':\n",
        "    print('image/zip')\n",
        "  else:\n",
        "    print('application/octet-stream')"
      ],
      "metadata": {
        "colab": {
          "base_uri": "https://localhost:8080/"
        },
        "id": "rt2GKeqNYUKl",
        "outputId": "cfb2365e-7f32-424e-ef2e-3043967a5163"
      },
      "execution_count": null,
      "outputs": [
        {
          "output_type": "stream",
          "name": "stdout",
          "text": [
            "Insert file name: dog.zip\n",
            "image/zip\n"
          ]
        }
      ]
    },
    {
      "cell_type": "code",
      "source": [
        "#Math Interpreter\n",
        "\n",
        "calc = input(\"Insert your mathematical expression: \")\n",
        "x = int(calc[0])\n",
        "y = calc[1]\n",
        "z = int(calc[2])\n",
        "\n",
        "if y not in ('+-*/'):\n",
        "  print('Only accepting +, -, *, /')\n",
        "else:\n",
        "  if y == '+':\n",
        "    print(float(x+z))\n",
        "  elif y == '-':\n",
        "    print(float(x-z))\n",
        "  elif y == '*':\n",
        "    print(float(x*z))\n",
        "  elif y == '/':\n",
        "    if z == 0:\n",
        "      print('Cannot perform division by 0')\n",
        "    else:\n",
        "      print(float(x/z))"
      ],
      "metadata": {
        "colab": {
          "base_uri": "https://localhost:8080/"
        },
        "id": "UFv3civ_a5EQ",
        "outputId": "57b1e2ed-198b-4a46-815e-458929d75272"
      },
      "execution_count": null,
      "outputs": [
        {
          "output_type": "stream",
          "name": "stdout",
          "text": [
            "Insert your mathematical expression: 4/2\n",
            "2.0\n"
          ]
        }
      ]
    },
    {
      "cell_type": "code",
      "source": [
        "#Meal Time \n",
        "\n",
        "def main():\n",
        "  time = input('Insert current time (#:## or ##:##): ')\n",
        "  convert(time)\n",
        "\n",
        "def convert(time):\n",
        "  hour = float(time.split(':')[0])\n",
        "  minute = round(float(time.split(':')[1])/60,1)\n",
        "\n",
        "  new_time = hour + minute \n",
        "  \n",
        "  if new_time >= 7 and new_time <= 8:\n",
        "    print('breakfast time')\n",
        "  elif new_time >= 12 and new_time <= 13:\n",
        "    print('lunch time')\n",
        "  elif new_time >= 18 and new_time <= 19:\n",
        "    print('dinner time')\n",
        "\n",
        "# if __name__ == '__main__':\n",
        "#   main()"
      ],
      "metadata": {
        "id": "5dX5qHcmgiFx"
      },
      "execution_count": null,
      "outputs": []
    },
    {
      "cell_type": "markdown",
      "source": [
        "#**WEEK 3**"
      ],
      "metadata": {
        "id": "two_rf73JEE0"
      }
    },
    {
      "cell_type": "code",
      "source": [
        "import string"
      ],
      "metadata": {
        "id": "iRo7t8lPJNoi"
      },
      "execution_count": 1,
      "outputs": []
    },
    {
      "cell_type": "code",
      "source": [
        "#Felipe's Taqueria"
      ],
      "metadata": {
        "id": "gNkGf8HBsGIW"
      },
      "execution_count": null,
      "outputs": []
    },
    {
      "cell_type": "code",
      "source": [
        ""
      ],
      "metadata": {
        "id": "IvHoRQ9aI-su"
      },
      "execution_count": null,
      "outputs": []
    }
  ]
}