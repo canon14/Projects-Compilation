{
  "nbformat": 4,
  "nbformat_minor": 0,
  "metadata": {
    "colab": {
      "name": "PDFtoExcel.ipynb",
      "provenance": [],
      "authorship_tag": "ABX9TyNTscrnmG9wEgJoH4TEG4fa",
      "include_colab_link": true
    },
    "kernelspec": {
      "name": "python3",
      "display_name": "Python 3"
    },
    "language_info": {
      "name": "python"
    }
  },
  "cells": [
    {
      "cell_type": "markdown",
      "metadata": {
        "id": "view-in-github",
        "colab_type": "text"
      },
      "source": [
        "<a href=\"https://colab.research.google.com/github/canon14/Projects-Compilation/blob/master/ISOMessagesCompare.ipynb\" target=\"_parent\"><img src=\"https://colab.research.google.com/assets/colab-badge.svg\" alt=\"Open In Colab\"/></a>"
      ]
    },
    {
      "cell_type": "code",
      "source": [
        "pip install xlwings openpyxl"
      ],
      "metadata": {
        "colab": {
          "base_uri": "https://localhost:8080/"
        },
        "id": "FQAgG1LDIwWr",
        "outputId": "09642b0b-3fde-46ce-ef9a-d37486201ad6"
      },
      "execution_count": 1,
      "outputs": [
        {
          "output_type": "stream",
          "name": "stdout",
          "text": [
            "Looking in indexes: https://pypi.org/simple, https://us-python.pkg.dev/colab-wheels/public/simple/\n",
            "Collecting xlwings\n",
            "  Downloading xlwings-0.27.10-py3-none-any.whl (1.0 MB)\n",
            "\u001b[K     |████████████████████████████████| 1.0 MB 4.3 MB/s \n",
            "\u001b[?25hRequirement already satisfied: openpyxl in /usr/local/lib/python3.7/dist-packages (3.0.10)\n",
            "Requirement already satisfied: et-xmlfile in /usr/local/lib/python3.7/dist-packages (from openpyxl) (1.1.0)\n",
            "Installing collected packages: xlwings\n",
            "Successfully installed xlwings-0.27.10\n"
          ]
        }
      ]
    },
    {
      "cell_type": "code",
      "source": [
        "import pandas as pd\n",
        "import numpy as np \n",
        "import xlwings\n",
        "import openpyxl"
      ],
      "metadata": {
        "id": "q71g9kdUIyG0"
      },
      "execution_count": 2,
      "outputs": []
    },
    {
      "cell_type": "code",
      "source": [
        "#Different versions from different xpaths (NPP)\n",
        "\n",
        "df1 = pd.read_csv('/content/xpath.csv', encoding=\"ISO-8859-1\", dtype='unicode')\n",
        "df2 = pd.read_csv('/content/xpath_NPP.csv', encoding=\"ISO-8859-1\", dtype='unicode')\n",
        "\n",
        "df1 = df1[['message', 'xpath', 'type', 'min_occurs', 'max_occurs', 'min_length', 'max_length']]\n",
        "df2 = df2[['message', 'xpath', 'type', 'min_occurs', 'max_occurs', 'min_length', 'max_length']]\n",
        "\n",
        "df2['message'] = df2['message'] + '_NPP'\n",
        "\n",
        "message_df1 = df1.loc[0, 'message'].replace(\" \", \"\")\n",
        "message_df2 = df2.loc[0, 'message'].replace(\" \", \"\")\n",
        "\n",
        "df1_final = df1.merge(df2['xpath'], how='outer', on='xpath').set_index('xpath')\n",
        "df2_final = df2.merge(df1['xpath'], how='outer', on='xpath').set_index('xpath')\n",
        "\n",
        "df_all = pd.concat([df1_final, df2_final], axis='columns', keys=[message_df1, message_df2])\n",
        "df_final = df_all.swaplevel(axis='columns')[df1_final.columns[1:]]\n",
        "\n",
        "def highlight(data, color='yellow'):\n",
        "  attr = 'background-color: {}'.format(color)\n",
        "  other = data.xs(message_df1, axis='columns', level=-1)\n",
        "  return pd.DataFrame(np.where(data.ne(other, level=0), attr, ''), index=data.index, columns=data.columns)\n",
        "\n",
        "df_final.style.apply(highlight, axis=None).to_excel('compare_v05standard_v05NPPAustralia.xlsx', engine='openpyxl')"
      ],
      "metadata": {
        "id": "YFvskhG8Iz0v"
      },
      "execution_count": 4,
      "outputs": []
    },
    {
      "cell_type": "code",
      "source": [
        "#Different versions from different xpaths (TCH)\n",
        "\n",
        "df1 = pd.read_csv('/content/xpath.csv', encoding=\"ISO-8859-1\", dtype='unicode')\n",
        "df2 = pd.read_csv('/content/xpath_TCH.csv', encoding=\"ISO-8859-1\", dtype='unicode')\n",
        "\n",
        "df1 = df1[['message', 'xpath', 'type', 'min_occurs', 'max_occurs', 'min_length', 'max_length']]\n",
        "df2 = df2[['message', 'xpath', 'type', 'min_occurs', 'max_occurs', 'min_length', 'max_length']]\n",
        "\n",
        "df2['message'] = df2['message'] + '_TCH'\n",
        "\n",
        "message_df1 = df1.loc[0, 'message'].replace(\" \", \"\")\n",
        "message_df2 = df2.loc[0, 'message'].replace(\" \", \"\")\n",
        "\n",
        "df1_final = df1.merge(df2['xpath'], how='outer', on='xpath').set_index('xpath')\n",
        "df2_final = df2.merge(df1['xpath'], how='outer', on='xpath').set_index('xpath')\n",
        "\n",
        "df_all = pd.concat([df1_final, df2_final], axis='columns', keys=[message_df1, message_df2])\n",
        "df_final = df_all.swaplevel(axis='columns')[df1_final.columns[1:]]\n",
        "\n",
        "def highlight(data, color='yellow'):\n",
        "  attr = 'background-color: {}'.format(color)\n",
        "  other = data.xs(message_df1, axis='columns', level=-1)\n",
        "  return pd.DataFrame(np.where(data.ne(other, level=0), attr, ''), index=data.index, columns=data.columns)\n",
        "\n",
        "df_final.style.apply(highlight, axis=None).to_excel('compare_v08standard_v08TCH.xlsx', engine='openpyxl')"
      ],
      "metadata": {
        "id": "dbJ7BO_LI1-k"
      },
      "execution_count": null,
      "outputs": []
    },
    {
      "cell_type": "code",
      "source": [
        "#Different versions from different xpaths (FedNow)\n",
        "\n",
        "df1 = pd.read_csv('/content/xpath.csv', encoding=\"ISO-8859-1\", dtype='unicode')\n",
        "df2 = pd.read_csv('/content/xpath_FedNow.csv', encoding=\"ISO-8859-1\", dtype='unicode')\n",
        "\n",
        "df1 = df1[['message', 'xpath', 'type', 'min_occurs', 'max_occurs', 'min_length', 'max_length']]\n",
        "df2 = df2[['message', 'xpath', 'type', 'min_occurs', 'max_occurs', 'min_length', 'max_length']]\n",
        "\n",
        "df2['message'] = df2['message'] + '_FedNow'\n",
        "\n",
        "message_df1 = df1.loc[0, 'message'].replace(\" \", \"\")\n",
        "message_df2 = df2.loc[0, 'message'].replace(\" \", \"\")\n",
        "\n",
        "df1_final = df1.merge(df2['xpath'], how='outer', on='xpath').set_index('xpath')\n",
        "df2_final = df2.merge(df1['xpath'], how='outer', on='xpath').set_index('xpath')\n",
        "\n",
        "df_all = pd.concat([df1_final, df2_final], axis='columns', keys=[message_df1, message_df2])\n",
        "df_final = df_all.swaplevel(axis='columns')[df1_final.columns[1:]]\n",
        "\n",
        "def highlight(data, color='yellow'):\n",
        "  attr = 'background-color: {}'.format(color)\n",
        "  other = data.xs(message_df1, axis='columns', level=-1)\n",
        "  return pd.DataFrame(np.where(data.ne(other, level=0), attr, ''), index=data.index, columns=data.columns)\n",
        "\n",
        "df_final.style.apply(highlight, axis=None).to_excel('pacs00800108_compare_standard_FedNow.xlsx', engine='openpyxl')"
      ],
      "metadata": {
        "id": "4poAVG_hI33b"
      },
      "execution_count": 12,
      "outputs": []
    },
    {
      "cell_type": "code",
      "source": [
        "print(len(df1))\n",
        "print(len(df2))"
      ],
      "metadata": {
        "colab": {
          "base_uri": "https://localhost:8080/"
        },
        "id": "tO82JmNJJkOT",
        "outputId": "737444eb-549f-4a32-fe18-00e2bec7670d"
      },
      "execution_count": 5,
      "outputs": [
        {
          "output_type": "stream",
          "name": "stdout",
          "text": [
            "1368\n",
            "667\n"
          ]
        }
      ]
    },
    {
      "cell_type": "code",
      "source": [
        "print(len(df1))\n",
        "print(len(df2))"
      ],
      "metadata": {
        "colab": {
          "base_uri": "https://localhost:8080/"
        },
        "id": "ugK8f69pLEL8",
        "outputId": "31ba30fb-0441-45b5-9116-40d333e5fe86"
      },
      "execution_count": 9,
      "outputs": [
        {
          "output_type": "stream",
          "name": "stdout",
          "text": [
            "5386\n",
            "386\n"
          ]
        }
      ]
    },
    {
      "cell_type": "code",
      "source": [
        "print(len(df1))\n",
        "print(len(df2))"
      ],
      "metadata": {
        "colab": {
          "base_uri": "https://localhost:8080/"
        },
        "id": "oIYopUlGLgK5",
        "outputId": "6d39eecf-273e-4c29-8cfd-1b89ae132706"
      },
      "execution_count": 11,
      "outputs": [
        {
          "output_type": "stream",
          "name": "stdout",
          "text": [
            "2142\n",
            "722\n"
          ]
        }
      ]
    },
    {
      "cell_type": "code",
      "source": [
        "print(len(df1))\n",
        "print(len(df2))"
      ],
      "metadata": {
        "colab": {
          "base_uri": "https://localhost:8080/"
        },
        "id": "s1T57WXRM6cy",
        "outputId": "9ca6fb34-48db-42c3-cb1d-8a0440c2633a"
      },
      "execution_count": 13,
      "outputs": [
        {
          "output_type": "stream",
          "name": "stdout",
          "text": [
            "2998\n",
            "89\n"
          ]
        }
      ]
    },
    {
      "cell_type": "code",
      "source": [
        ""
      ],
      "metadata": {
        "id": "yUJLvccYNIgn"
      },
      "execution_count": null,
      "outputs": []
    }
  ]
}